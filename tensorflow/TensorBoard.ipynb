{
 "cells": [
  {
   "cell_type": "markdown",
   "metadata": {},
   "source": [
    "This notebook is adapted from here: https://www.tensorflow.org/get_started/summaries_and_tensorboard\n",
    "\n",
    "With TensorBoard, you have to set things up in summaries, then add those summaries to a FileWriter.  The FileWriter will write whatever you tell it to summarize to a directory.  You then start TensorBoard by entering the following at a command prompt:\n",
    "\n",
    "`tensorboard --logdir=/path/to/logs`"
   ]
  },
  {
   "cell_type": "markdown",
   "metadata": {},
   "source": [
    "**NOTE** - If you don't have the boston.pickle file in your directory, run the data prep script with python like so:\n",
    "\n",
    "`python data_prep.py`"
   ]
  },
  {
   "cell_type": "code",
   "execution_count": 1,
   "metadata": {},
   "outputs": [],
   "source": [
    "# imports\n",
    "\n",
    "import pandas as pd\n",
    "import os\n",
    "import tensorflow as tf\n",
    "import numpy as np\n",
    "import random\n",
    "from matplotlib import pyplot as plt"
   ]
  },
  {
   "cell_type": "code",
   "execution_count": 2,
   "metadata": {},
   "outputs": [],
   "source": [
    "root_dir = \".\"\n",
    "pickle_file = \"boston.pickle\"\n",
    "df = pd.read_pickle(os.sep.join([root_dir, pickle_file]))"
   ]
  },
  {
   "cell_type": "code",
   "execution_count": 3,
   "metadata": {},
   "outputs": [],
   "source": [
    "column_names = list(df.columns)"
   ]
  },
  {
   "cell_type": "code",
   "execution_count": null,
   "metadata": {},
   "outputs": [],
   "source": []
  },
  {
   "cell_type": "code",
   "execution_count": 4,
   "metadata": {},
   "outputs": [],
   "source": [
    "hold_out = np.random.choice(range(0, df.shape[0]), size=round(0.3 * df.shape[0]), replace=False)"
   ]
  },
  {
   "cell_type": "code",
   "execution_count": 5,
   "metadata": {},
   "outputs": [],
   "source": [
    "# randomize \n",
    "random.seed(42)\n",
    "df2 = df.sample(frac=1)"
   ]
  },
  {
   "cell_type": "code",
   "execution_count": 6,
   "metadata": {},
   "outputs": [],
   "source": [
    "hold_out = round(0.3 * df2.shape[0])\n",
    "df_test_valid = df2.iloc[:hold_out, :]\n",
    "df_train = df2.iloc[hold_out:, :]"
   ]
  },
  {
   "cell_type": "code",
   "execution_count": 7,
   "metadata": {},
   "outputs": [],
   "source": [
    "test_valid_split = 0.5\n",
    "n_test_valid = round(test_valid_split * df_test_valid.shape[0])\n",
    "df_test = df_test_valid.iloc[:n_test_valid, :]\n",
    "df_valid = df_test_valid.iloc[n_test_valid:, :]"
   ]
  },
  {
   "cell_type": "code",
   "execution_count": 8,
   "metadata": {},
   "outputs": [],
   "source": [
    "assert df_train.shape[0] + df_test.shape[0] + df_valid.shape[0] == df.shape[0]"
   ]
  },
  {
   "cell_type": "code",
   "execution_count": 9,
   "metadata": {},
   "outputs": [
    {
     "name": "stderr",
     "output_type": "stream",
     "text": [
      "/Users/mcloney/anaconda3/lib/python3.6/site-packages/ipykernel_launcher.py:2: SettingWithCopyWarning: \n",
      "A value is trying to be set on a copy of a slice from a DataFrame\n",
      "\n",
      "See the caveats in the documentation: http://pandas.pydata.org/pandas-docs/stable/indexing.html#indexing-view-versus-copy\n",
      "  \n"
     ]
    }
   ],
   "source": [
    "Y_ = df_train[\"MEDV\"].values\n",
    "df_train.drop(\"MEDV\", axis=1, inplace=True)"
   ]
  },
  {
   "cell_type": "code",
   "execution_count": 10,
   "metadata": {},
   "outputs": [],
   "source": [
    "# xxx = df_train[\"CRIM\"]\n",
    "def normalize(seriez):\n",
    "    \"\"\"\n",
    "    Given a set of values (like a pd.Series or pd.DataFrame column), I normalize\n",
    "    them using ptp (point-to-point) to account for negative values.\n",
    "    \"\"\"\n",
    "    return (seriez - seriez.min(0)) / seriez.ptp(0)\n",
    "\n",
    "srz = {}\n",
    "for j in column_names[:-1]:\n",
    "    srz[j] = normalize(df_train[j])"
   ]
  },
  {
   "cell_type": "code",
   "execution_count": 11,
   "metadata": {},
   "outputs": [],
   "source": [
    "Y_normal = normalize(Y_)\n",
    "df_train_normal = pd.DataFrame(srz)"
   ]
  },
  {
   "cell_type": "code",
   "execution_count": 12,
   "metadata": {
    "scrolled": false
   },
   "outputs": [
    {
     "data": {
      "image/png": "[encoded data removed]",
      "text/plain": [
       "<matplotlib.figure.Figure at 0x11c545fd0>"
      ]
     },
     "metadata": {},
     "output_type": "display_data"
    }
   ],
   "source": [
    "# THIS IS THE GOOD ONE??\n",
    "\n",
    "num_vars = df_train_normal.shape[1]\n",
    "num_predictions = Y_normal.shape[0]\n",
    "\n",
    "# Model params\n",
    "w = tf.Variable(tf.random_normal([1, num_vars]), name='w')\n",
    "b = tf.Variable(tf.zeros([1, num_vars]), name='b')\n",
    "\n",
    "# Model input and output\n",
    "x = tf.placeholder(tf.float32, [None, num_vars], name='x')\n",
    "y = tf.placeholder(tf.float32, [None, num_predictions], name='y')\n",
    "\n",
    "linear_model = tf.reduce_sum(x * w + b, axis=1, name='out', keep_dims=True)\n",
    "\n",
    "# Loss as sum(error^2)\n",
    "loss = tf.reduce_sum(tf.square(linear_model - y), name='loss')\n",
    "\n",
    "# Create optimizer\n",
    "optimizer = tf.train.GradientDescentOptimizer(0.00000005)\n",
    "train = optimizer.minimize(loss, name='train')\n",
    "\n",
    "# Define training data\n",
    "x_train = np.array(df_train_normal)\n",
    "y_train = Y_normal.reshape(-1, 354)\n",
    "\n",
    "\n",
    "# Create session and init parameters\n",
    "sess = tf.Session()\n",
    "sess.run(tf.global_variables_initializer())\n",
    "\n",
    "losses = []\n",
    "# Training loop\n",
    "train_data = {x: x_train, y: y_train}\n",
    "for i in range(1000):\n",
    "    _, losser = sess.run([train, loss], train_data)\n",
    "    \n",
    "    if i % 10 == 0:\n",
    "        losses.append(losser)\n",
    "\n",
    "# sess.run([w, b, loss, linear_model], train_data)\n",
    "# Eval solution\n",
    "# w_est, b_est, curr_loss, y_pred = sess.run([w, b, loss, linear_model], train_data)\n",
    "# print(\"w: %s b: %s loss: %s\" % (w_est, b_est, curr_loss))\n",
    "# print(\"y_pred: %s\" % (y_pred,))\n",
    "\n",
    "plt.plot(losses)\n",
    "plt.show()"
   ]
  },
  {
   "cell_type": "code",
   "execution_count": 13,
   "metadata": {},
   "outputs": [
    {
     "data": {
      "text/plain": [
       "25103.07"
      ]
     },
     "execution_count": 13,
     "metadata": {},
     "output_type": "execute_result"
    }
   ],
   "source": [
    "# get the last value in the losses list\n",
    "losses[-1]"
   ]
  }
 ],
 "metadata": {
  "kernelspec": {
   "display_name": "Python 3",
   "language": "python",
   "name": "python3"
  },
  "language_info": {
   "codemirror_mode": {
    "name": "ipython",
    "version": 3
   },
   "file_extension": ".py",
   "mimetype": "text/x-python",
   "name": "python",
   "nbconvert_exporter": "python",
   "pygments_lexer": "ipython3",
   "version": "3.6.1"
  }
 },
 "nbformat": 4,
 "nbformat_minor": 2
}
