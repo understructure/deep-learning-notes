{
 "cells": [
  {
   "cell_type": "markdown",
   "metadata": {},
   "source": [
    "# Tensorflow and Deep Learning with MNIST Data"
   ]
  },
  {
   "cell_type": "markdown",
   "metadata": {},
   "source": [
    "## Traditional Neural Networks"
   ]
  },
  {
   "cell_type": "markdown",
   "metadata": {},
   "source": [
    "Notes from lecture by Martin Gorner here: https://www.youtube.com/watch?v=vq2nnJ4g6N0\n",
    "\n",
    "And there's a Google self-paced lab here: https://codelabs.developers.google.com/codelabs/cloud-tensorflow-mnist"
   ]
  },
  {
   "cell_type": "markdown",
   "metadata": {},
   "source": [
    "### TensorFlow - Initialization"
   ]
  },
  {
   "cell_type": "code",
   "execution_count": 1,
   "metadata": {},
   "outputs": [
    {
     "name": "stdout",
     "output_type": "stream",
     "text": [
      "Extracting MNIST_data/train-images-idx3-ubyte.gz\n",
      "Extracting MNIST_data/train-labels-idx1-ubyte.gz\n",
      "Extracting MNIST_data/t10k-images-idx3-ubyte.gz\n",
      "Extracting MNIST_data/t10k-labels-idx1-ubyte.gz\n"
     ]
    }
   ],
   "source": [
    "import tensorflow as tf\n",
    "\n",
    "# code here was written, but full code is here:\n",
    "# https://github.com/martin-gorner/tensorflow-mnist-tutorial/blob/master/mnist_1.0_softmax.py\n",
    "\n",
    "# this will download the code for you, should put something in here to pickle it\n",
    "# when first downloaded, then check for pickle file and load that instead\n",
    "\n",
    "from tensorflow.examples.tutorials.mnist import input_data\n",
    "mnist = input_data.read_data_sets(\"MNIST_data/\", one_hot=True, reshape=False, validation_size=0)\n",
    "\n",
    "X = tf.placeholder(tf.float32, [None, 28, 28, 1])\n",
    "# datatype, \n",
    "# None = unknown batch size (will become 100)\n",
    "# dimensions of an image (28x28)\n",
    "# and number of values per pixel (1) - could use 3 for RGB\n",
    "\n",
    "W = tf.Variable(tf.zeros([784, 10]))\n",
    "b = tf.Variable(tf.zeros([10]))\n",
    "# training = computing variables W and b\n"
   ]
  },
  {
   "cell_type": "markdown",
   "metadata": {},
   "source": [
    "### TensorFlow - Model"
   ]
  },
  {
   "cell_type": "code",
   "execution_count": 3,
   "metadata": {
    "collapsed": true
   },
   "outputs": [],
   "source": [
    "# model\n",
    "# the -1 in tf.reshape means \"there's only one solution, TensorFlow, go figure it out!\"\n",
    "# the -1 will end up being the number of images in the batch, basically the -1 means\n",
    "# to keep the number of samples the same\n",
    "Y = tf.nn.softmax(tf.matmul(tf.reshape(X, [-1, 784]), W) + b)\n",
    "\n",
    "# placeholder for correct answers\n",
    "Y_ = tf.placeholder(tf.float32, [None, 10])\n",
    "\n",
    "# loss function\n",
    "cross_entropy = -tf.reduce_sum(Y_ * tf.log(Y))\n",
    "\n",
    "is_correct = tf.equal(tf.argmax(Y, 1), tf.argmax(Y_, 1))\n",
    "accuracy = tf.reduce_mean(tf.cast(is_correct, tf.float32))"
   ]
  },
  {
   "cell_type": "markdown",
   "metadata": {},
   "source": [
    "### TensorFlow - Training\n",
    "\n",
    "GradientDescentOptimizer is the simplest optimizer in the library."
   ]
  },
  {
   "cell_type": "code",
   "execution_count": 4,
   "metadata": {
    "collapsed": true
   },
   "outputs": [],
   "source": [
    "learn_rate = 0.003\n",
    "optimizer = tf.train.GradientDescentOptimizer(learn_rate)\n",
    "train_step = optimizer.minimize(cross_entropy)"
   ]
  },
  {
   "cell_type": "markdown",
   "metadata": {},
   "source": [
    "Cross-entropy depends on:\n",
    "\n",
    "* Training images\n",
    "* Training labels\n",
    "* Weights\n",
    "* Biases\n",
    "\n",
    "\n",
    "First, compute gradient - “formal derivation”\n",
    "\n",
    "* Gradient - vector of all the partial derivatives of this function, relative to all weights and biases in the system\n",
    "* 784 x 10 weights\n",
    "* Think of the learning rate as a little fraction of the gradient you’ll be adding to weights and biases at each step\n",
    "* NOTE:  all the TensorFlow stuff is deferred execution - statements don’t produce results but just define a computation graph in memory\n"
   ]
  },
  {
   "cell_type": "markdown",
   "metadata": {},
   "source": [
    "### TensorFlow - Run"
   ]
  },
  {
   "cell_type": "code",
   "execution_count": null,
   "metadata": {
    "collapsed": true
   },
   "outputs": [],
   "source": [
    "# init = tf.initialize_all_variables() # DEPRECATED\n",
    "init = tf.global_variables_initializer()\n",
    "\n",
    "sess = tf.Session()\n",
    "sess.run(init)\n",
    "\n",
    "training_steps = 100000\n",
    "batch_size = 100\n",
    "\n",
    "batch_X, batch_Y = mnist.train.next_batch(batch_size)\n",
    "train_data = {X: batch_X, Y_: batch_Y}\n"
   ]
  },
  {
   "cell_type": "markdown",
   "metadata": {},
   "source": [
    "Why are we running these batches (`batch_size`) 100 at a time?    Two reasons:\n",
    "\n",
    "1. We want to be running this on GPUs, with minibatching you use bigger matrices, bigger matrices are easier to optimize on GPUs\n",
    "1. If you compute the gradient on one image, from one image to the nsxt, there can be a little variation on where the gradient points.  With 100 at a time, it's a little more stable, as you get a consensus over 100 images."
   ]
  },
  {
   "cell_type": "code",
   "execution_count": 6,
   "metadata": {},
   "outputs": [],
   "source": [
    "sess = tf.Session()\n",
    "sess.run(init)\n",
    "\n",
    "training_steps = 10000\n",
    "batch_size = 100\n",
    "\n",
    "train_accuracy = []\n",
    "train_xent = []\n",
    "test_accuracy = []\n",
    "test_xent = []\n",
    "\n",
    "for i in range(training_steps):\n",
    "    # load batch of images and labels\n",
    "    batch_X, batch_Y = mnist.train.next_batch(batch_size)\n",
    "    train_data = {X: batch_X, Y_: batch_Y}\n",
    "\n",
    "    # train (here, we’re running a TensorFlow computation, feeding placeholders\n",
    "    sess.run(train_step, feed_dict=train_data)\n",
    "\n",
    "    # TIP - do the “success” parts every 100 iterations\n",
    "    if i % 100 == 0:\n",
    "        # success?\n",
    "        a, c = sess.run([accuracy, cross_entropy], feed_dict=train_data)\n",
    "        train_accuracy.append(a)\n",
    "        train_xent.append(c)\n",
    "        \n",
    "        # success on test data?\n",
    "        test_data = {X: mnist.test.images, Y_ : mnist.test.labels}\n",
    "        a, c = sess.run([accuracy, cross_entropy], feed_dict = test_data)\n",
    "        \n",
    "        test_accuracy.append(a)\n",
    "        test_xent.append(c)"
   ]
  },
  {
   "cell_type": "markdown",
   "metadata": {},
   "source": [
    "### Static Visualizations"
   ]
  },
  {
   "cell_type": "code",
   "execution_count": 8,
   "metadata": {
    "collapsed": true
   },
   "outputs": [],
   "source": [
    "import matplotlib.pyplot as plt"
   ]
  },
  {
   "cell_type": "code",
   "execution_count": 22,
   "metadata": {},
   "outputs": [
    {
     "data": {
      "image/png": "[encoded data removed]",
      "text/plain": [
       "<matplotlib.figure.Figure at 0x12a699ef0>"
      ]
     },
     "metadata": {},
     "output_type": "display_data"
    }
   ],
   "source": [
    "plt.plot(range(len(test_accuracy)), test_accuracy, label=\"Test Accuracy\")\n",
    "plt.plot(range(len(train_accuracy)), train_accuracy, label=\"Train Accuracy\")\n",
    "plt.legend()\n",
    "plt.show()"
   ]
  },
  {
   "cell_type": "code",
   "execution_count": 27,
   "metadata": {},
   "outputs": [
    {
     "data": {
      "image/png": "[encoded data removed]",
      "text/plain": [
       "<matplotlib.figure.Figure at 0x12a063278>"
      ]
     },
     "metadata": {},
     "output_type": "display_data"
    }
   ],
   "source": [
    "import math\n",
    "plt.plot(range(len(test_xent)), test_xent, label=\"Test Cross-Entropy\")\n",
    "plt.plot(range(len(train_xent)), train_xent, label=\"Train Cross-Entropy\")\n",
    "plt.legend()\n",
    "plt.show()"
   ]
  },
  {
   "cell_type": "code",
   "execution_count": 44,
   "metadata": {},
   "outputs": [
    {
     "data": {
      "image/png": "[encoded data removed]",
      "text/plain": [
       "<matplotlib.figure.Figure at 0x12a058780>"
      ]
     },
     "metadata": {},
     "output_type": "display_data"
    }
   ],
   "source": [
    "plt.plot(range(len(test_accuracy)), [math.log(x) for x in test_accuracy], label=\"Test Accuracy\")\n",
    "plt.plot(range(len(test_xent)), [math.log(x) for x in test_xent], label=\"Test Cross-Entropy\")\n",
    "\n",
    "plt.title(\"Log Test Accuracy and Cross-Entropy\")\n",
    "plt.legend()\n",
    "plt.show()"
   ]
  },
  {
   "cell_type": "markdown",
   "metadata": {},
   "source": [
    "An accuracy of ~92% isn't very good though!  We can remedy this by adding layers to our network.  This can be done relatively easily in TensorFlow.\n",
    "\n",
    "First, each layer will require its own weights matrix, and its own bias vector.\n",
    "\n",
    "Also, good practice to use `tf.truncated_normal()` to initialize weights matrices.\n",
    "\n",
    "Essentially what we'll be doing is feeding each hidden layer with the outputs of the previous layer, and using the `tf.nn.relu()` function as the activation function for all layers with the exception of the output layer.\n",
    "\n",
    "While our original model was this:\n",
    "\n",
    "`Y = tf.nn.softmax(tf.matmul(tf.reshape(X, [-1, 784]), W) + b)`\n",
    "\n",
    "Our new model will look like this:\n",
    "\n",
    "`X = tf.reshape(X, [-1, 28*28])             # 28*28 = 784\n",
    "Y1 = tf.nn.relu(tf.matmul(X, W1) + b1)\n",
    "Y2 = tf.nn.relu(tf.matmul(Y1, W2) + b2)\n",
    "Y3 = tf.nn.relu(tf.matmul(Y2, W3) + b3)\n",
    "Y4 = tf.nn.relu(tf.matmul(Y3, W4) + b4)\n",
    "Y = tf.nn.softmax(tf.matmul(Y4, W5 + b5)`"
   ]
  },
  {
   "cell_type": "code",
   "execution_count": 46,
   "metadata": {},
   "outputs": [],
   "source": [
    "# dimensions of various layers\n",
    "K = 100\n",
    "L = 200\n",
    "M = 60\n",
    "N = 30\n",
    "n_output_classes = 10\n",
    "\n",
    "\n",
    "# initialize weights and biases\n",
    "W1 = tf.truncated_normal([28*28, K], stddev=0.1)\n",
    "b1 = tf.zeros([K])\n",
    "W2 = tf.truncated_normal([K, L], stddev=0.1)\n",
    "b2 = tf.zeros([L])\n",
    "W3 = tf.truncated_normal([L, M], stddev=0.1)\n",
    "b3 = tf.zeros([M])\n",
    "W4 = tf.truncated_normal([M, N], stddev=0.1)\n",
    "b4 = tf.zeros([N])\n",
    "W5 = tf.truncated_normal([N, n_output_classes], stddev=0.1)\n",
    "b5 = tf.zeros([n_output_classes])\n",
    "\n",
    "# new model looks like this\n",
    "X = tf.reshape(X, [-1, 28*28])\n",
    "Y1 = tf.nn.relu(tf.matmul(X, W1) + b1)\n",
    "Y2 = tf.nn.relu(tf.matmul(Y1, W2) + b2)\n",
    "Y3 = tf.nn.relu(tf.matmul(Y2, W3) + b3)\n",
    "Y4 = tf.nn.relu(tf.matmul(Y3, W4) + b4)\n",
    "Y = tf.nn.softmax(tf.matmul(Y4, W5) + b5)"
   ]
  },
  {
   "cell_type": "markdown",
   "metadata": {},
   "source": [
    "Note that we're using `tf.nn.relu()` (RELU = Rectified Linear Unit) as our activation function for non-output layers, instead of the `tf.nn.sigmoid()` function.  This is due to the fact that the sigmoid function is flat at the ends, so its gradient is zero.  A gradient of zero is particularly problematic in deep neural networks.  A RELU returns 0 for anything below zero, and it's the identity function for anything above zero.  See the images below for illustrations of these different activation functions."
   ]
  },
  {
   "cell_type": "code",
   "execution_count": 139,
   "metadata": {},
   "outputs": [
    {
     "data": {
      "image/png": "[encoded data removed]",
      "text/plain": [
       "<matplotlib.figure.Figure at 0x12a70d588>"
      ]
     },
     "execution_count": 139,
     "metadata": {},
     "output_type": "execute_result"
    }
   ],
   "source": [
    "# 1 / (1 + e^-x)\n",
    "import numpy as np\n",
    "import seaborn\n",
    "from __future__ import division\n",
    "sigmoid = lambda x: 1 / (1 + np.exp(-x))\n",
    "\n",
    "plt.clf()\n",
    "fig = plt.figure()\n",
    "left = fig.add_subplot(1, 2, 1)\n",
    "right = fig.add_subplot(1, 2, 2)\n",
    "\n",
    "\n",
    "sig_points = [(x, sigmoid(x)) for x in range(-10,11)]\n",
    "\n",
    "left.plot([x[0] for x in sig_points], [y[1] for y in sig_points])\n",
    "left.set_title(\"Sigmoid Activation Function\")\n",
    "\n",
    "f = lambda x: x if x >=0 else 0\n",
    "relu_points = [(x, f(x)) for x in range(-10,11)]\n",
    "\n",
    "right.plot([x[0] for x in relu_points], [y[1] for y in relu_points])\n",
    "right.set_title(\"RELU Activation Function\")\n",
    "fig.set_size_inches((12, 6))\n",
    "\n",
    "# fig.set_tight_layout(True)\n",
    "fig"
   ]
  },
  {
   "cell_type": "markdown",
   "metadata": {},
   "source": [
    "If you see the test accuracy and test cross-entropy jump around a lot, it usually means we're going too fast... like \"jumping from one side of the valley to another.\"  There are two ways to address this:\n",
    "\n",
    "1. **Reduce the learning rate** - if you reduce your learning rate by a factor of 10, for example, you'll slow down, but also slow your training by a factor of 10, so this isn't desirable.\n",
    "2. **Learning rate decay** - start learning fast and then slowly decay your learning rate to slow down toward the end.  So for instance, start at 0.003, and then drop exponentially to 0.0001.\n",
    "\n",
    "With a data set of 60,000 and a batch size of 100, an epoch would consist of 60,000 / 100 = 600 training runs.  \n",
    "\n",
    "An *epoch* is when you've seen all of your training data once.  So an epoch in this case would consist of 600 iterations of training data.\n"
   ]
  },
  {
   "cell_type": "markdown",
   "metadata": {},
   "source": [
    "### Dropout\n",
    "\n",
    "If your test cross-entropy loss goes down, but then starts to go back up, you may be overfitting the training data.  You may need to apply regularization in this case.\n",
    "\n",
    "Dropout means you give each neuron a percentage chance of remaining in the network.  So after each iteration, you'll remove x% of the neurons from your network for that **layer**.  You add dropout after the activation function of each hidden layer (except the inputs and outputs)."
   ]
  },
  {
   "cell_type": "code",
   "execution_count": 141,
   "metadata": {
    "collapsed": true
   },
   "outputs": [],
   "source": [
    "pkeep = tf.placeholder(tf.float32)  # e.g., 0.75 means each neuron has a 75% chance of remaining in the network\n",
    "Yf = tf.nn.relu(tf.matmul(X, W) + b)\n",
    "Y = tf.nn.dropout(X, pkeep)"
   ]
  },
  {
   "cell_type": "markdown",
   "metadata": {},
   "source": [
    "What this does in effect is sets the weights and biases to 0 for the \"dropout\" neurons.  It also slightly boosts the weights for the remaining neurons so the average across the network is not affected.\n",
    "\n",
    "When you're testing, you use 100% of the neurons in the network, so you'd set the `pkeep` placeholder to 1.\n",
    "\n",
    "Dropout **does** bring some noise back in, but that's to be expected, as it's a \"brutal technique.\""
   ]
  },
  {
   "cell_type": "markdown",
   "metadata": {},
   "source": [
    "Overfitting in a neural network happens when you have too many degrees of freedom (weights and biases).  What essentially happens is that the NN memorizes the data.  Always need lots of data to train a NN, but remember, it's a tradeoff.\n",
    "\n",
    "So we're stuck at 98% accuracy with this model, we can't get any better.  Why?  Because we flattened all of our images into vectors of 28 x 28 = 784-item vectors.  Images have 2D data that's important in their representation, therefore, convolutional neural networks can be used to improve accuracy."
   ]
  },
  {
   "cell_type": "markdown",
   "metadata": {},
   "source": [
    "## Convolutional Neural Networks"
   ]
  },
  {
   "cell_type": "code",
   "execution_count": null,
   "metadata": {
    "collapsed": true
   },
   "outputs": [],
   "source": []
  }
 ],
 "metadata": {
  "kernelspec": {
   "display_name": "Python 3",
   "language": "python",
   "name": "python3"
  },
  "language_info": {
   "codemirror_mode": {
    "name": "ipython",
    "version": 3
   },
   "file_extension": ".py",
   "mimetype": "text/x-python",
   "name": "python",
   "nbconvert_exporter": "python",
   "pygments_lexer": "ipython3",
   "version": "3.6.1"
  }
 },
 "nbformat": 4,
 "nbformat_minor": 2
}
