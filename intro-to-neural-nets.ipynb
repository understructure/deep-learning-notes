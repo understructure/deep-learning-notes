{
 "cells": [
  {
   "cell_type": "markdown",
   "metadata": {},
   "source": [
    "# Intro to neural nets"
   ]
  },
  {
   "cell_type": "markdown",
   "metadata": {},
   "source": [
    "## Statistical models\n",
    "\n",
    "Statistical models are ways we can view the world. There are generally two different kinds of statistical models: supervised (we know possibilities of answers, for example predict a housing price), and unsupervised (we don't know what kinds of answers there can be, for example segment customers into 3 or 4 categories). \n",
    "\n",
    "![img](https://i.stack.imgur.com/BZJiN.png)"
   ]
  },
  {
   "cell_type": "markdown",
   "metadata": {},
   "source": [
    "## Neural networks\n",
    "Neural networks are supervised learning: we know what the answers can be head of time. \n",
    "\n",
    "Some examples of neural networks in the real world:\n",
    "+ handwriting classification  (i.e. translate handwritten text to typed text)\n",
    "+ [voice recognition](https://medium.com/@ageitgey/machine-learning-is-fun-part-6-how-to-do-speech-recognition-with-deep-learning-28293c162f7a)\n",
    "+ image classification\n",
    "+ [stock market prediction](https://people.eecs.berkeley.edu/~akar/IITK_website/EE671/report_stock.pdf) with time series data\n",
    "+ [fraud detection](https://www.exastax.com/deep-learning/top-five-use-cases-of-tensorflow/) with time series data\n",
    "+ language translation (aka [Google Translate](https://en.wikipedia.org/wiki/Google_Neural_Machine_Translation)) \n",
    "+ creating [chat bots](https://www.youtube.com/watch?v=SJDEOWLHYVo) for customer service\n",
    "\n",
    "There are lots of [different kinds](https://en.wikipedia.org/wiki/Types_of_artificial_neural_networks) of neural networks. "
   ]
  },
  {
   "cell_type": "markdown",
   "metadata": {},
   "source": [
    "# Neural net basic internals\n",
    "\n",
    "In general, neural networks have *neurons*, which the weights of each given data points. They have *synapses*, which take the neurons and multiply them by some given weight, to result in another neuron (a *perceptron*). This neuron adds together all the outputs of the previous synapses + neurons and applies an  *activation function* that acts upon them to normalize the output. These neurons are then used as the next round of input.  \n",
    "\n",
    "Input: Vector of multiple input characteristics:  The output is a vector of results. \n",
    "\n",
    "![neural-net](https://upload.wikimedia.org/wikipedia/commons/thumb/4/46/Colored_neural_network.svg/300px-Colored_neural_network.svg.png)"
   ]
  },
  {
   "cell_type": "markdown",
   "metadata": {},
   "source": [
    "# Why are neurons scaled? \n",
    "\n",
    "If they are allowed to be arbitrary sizes, the network will grow larger and larger. Constraints are necessary to allow for bounds. "
   ]
  },
  {
   "cell_type": "markdown",
   "metadata": {},
   "source": [
    "## Why are neural nets considered black box models? \n",
    "\n",
    "From [Stackoverflow](https://stats.stackexchange.com/questions/93705/meaning-of-a-neural-network-as-a-black-box)\n",
    "    \n",
    "A neural network is a black box in the sense that while it can approximate any function, studying its structure won't give you any insights on the structure of the function being approximated.\n",
    "\n",
    "\"You know the model is some non-linear combination of some neurons, each of which is some non-linear combination of some other neurons, but it is near impossible to say what each neuron is doing.\""
   ]
  },
  {
   "cell_type": "code",
   "execution_count": null,
   "metadata": {
    "collapsed": true
   },
   "outputs": [],
   "source": []
  }
 ],
 "metadata": {
  "kernelspec": {
   "display_name": "Python 3",
   "language": "python",
   "name": "python3"
  },
  "language_info": {
   "codemirror_mode": {
    "name": "ipython",
    "version": 3
   },
   "file_extension": ".py",
   "mimetype": "text/x-python",
   "name": "python",
   "nbconvert_exporter": "python",
   "pygments_lexer": "ipython3",
   "version": "3.5.1"
  }
 },
 "nbformat": 4,
 "nbformat_minor": 1
}
